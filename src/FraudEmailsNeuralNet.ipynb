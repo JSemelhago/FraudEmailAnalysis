{
 "cells": [
  {
   "cell_type": "code",
   "execution_count": 9,
   "metadata": {
    "collapsed": true
   },
   "outputs": [
    {
     "name": "stderr",
     "output_type": "stream",
     "text": [
      "[nltk_data] Downloading package punkt to\n",
      "[nltk_data]     C:\\Users\\jseme\\AppData\\Roaming\\nltk_data...\n",
      "[nltk_data]   Package punkt is already up-to-date!\n",
      "[nltk_data] Downloading package averaged_perceptron_tagger to\n",
      "[nltk_data]     C:\\Users\\jseme\\AppData\\Roaming\\nltk_data...\n",
      "[nltk_data]   Package averaged_perceptron_tagger is already up-to-\n",
      "[nltk_data]       date!\n"
     ]
    }
   ],
   "source": [
    "\n",
    "import matplotlib.pyplot as plt\n",
    "import wordcloud\n",
    "import logging\n",
    "import collections\n",
    "import re\n",
    "import nltk\n",
    "import pandas as pd\n",
    "import numpy as np\n",
    "from PIL import Image\n",
    "\n",
    "#Tokenizer\n",
    "nltk.download('punkt')\n",
    "nltk.download('averaged_perceptron_tagger')\n",
    "\n",
    "logger = logging.getLogger('FraudEmails')\n",
    "\n",
    "frequency = 100"
   ]
  },
  {
   "cell_type": "code",
   "execution_count": 10,
   "outputs": [],
   "source": [
    "#Open and convert file to String\n",
    "try:\n",
    "    with open('../data/fraudulent_emails.txt','r') as file:\n",
    "        text = file.read()\n",
    "except Exception as e:\n",
    "    logger.error('Process failed with error: '+repr(e))\n",
    "finally:\n",
    "    file.close()"
   ],
   "metadata": {
    "collapsed": false,
    "pycharm": {
     "name": "#%%\n"
    }
   }
  },
  {
   "cell_type": "code",
   "execution_count": 23,
   "outputs": [],
   "source": [
    "#Delete everything between From r [.*?] Status: ?O\n",
    "formatEmails = re.sub('From.*?Status: ?O','',text,flags=re.DOTALL)\n"
   ],
   "metadata": {
    "collapsed": false,
    "pycharm": {
     "name": "#%%\n"
    }
   }
  },
  {
   "cell_type": "code",
   "execution_count": 24,
   "outputs": [],
   "source": [
    "#Convert to lower case\n",
    "formatEmails = formatEmails.lower()"
   ],
   "metadata": {
    "collapsed": false,
    "pycharm": {
     "name": "#%%\n"
    }
   }
  },
  {
   "cell_type": "code",
   "execution_count": 13,
   "outputs": [],
   "source": [
    "#Tokenize\n",
    "formatEmailsList = nltk.word_tokenize(formatEmails)"
   ],
   "metadata": {
    "collapsed": false,
    "pycharm": {
     "name": "#%%\n"
    }
   }
  },
  {
   "cell_type": "code",
   "execution_count": 14,
   "outputs": [],
   "source": [
    "#Correspond every entry to tag from https://www.ling.upenn.edu/courses/Fall_2003/ling001/penn_treebank_pos.html\n",
    "tags = nltk.pos_tag(formatEmailsList)"
   ],
   "metadata": {
    "collapsed": false,
    "pycharm": {
     "name": "#%%\n"
    }
   }
  },
  {
   "cell_type": "code",
   "execution_count": 15,
   "outputs": [
    {
     "data": {
      "text/plain": "    word  tag\n0   from   IN\n1      :    :\n2    mr.   NN\n3  james  NNS\n4  ngola   RB",
      "text/html": "<div>\n<style scoped>\n    .dataframe tbody tr th:only-of-type {\n        vertical-align: middle;\n    }\n\n    .dataframe tbody tr th {\n        vertical-align: top;\n    }\n\n    .dataframe thead th {\n        text-align: right;\n    }\n</style>\n<table border=\"1\" class=\"dataframe\">\n  <thead>\n    <tr style=\"text-align: right;\">\n      <th></th>\n      <th>word</th>\n      <th>tag</th>\n    </tr>\n  </thead>\n  <tbody>\n    <tr>\n      <th>0</th>\n      <td>from</td>\n      <td>IN</td>\n    </tr>\n    <tr>\n      <th>1</th>\n      <td>:</td>\n      <td>:</td>\n    </tr>\n    <tr>\n      <th>2</th>\n      <td>mr.</td>\n      <td>NN</td>\n    </tr>\n    <tr>\n      <th>3</th>\n      <td>james</td>\n      <td>NNS</td>\n    </tr>\n    <tr>\n      <th>4</th>\n      <td>ngola</td>\n      <td>RB</td>\n    </tr>\n  </tbody>\n</table>\n</div>"
     },
     "execution_count": 15,
     "metadata": {},
     "output_type": "execute_result"
    }
   ],
   "source": [
    "df = pd.DataFrame(tags)\n",
    "df.columns = ['word','tag']\n",
    "df.head()"
   ],
   "metadata": {
    "collapsed": false,
    "pycharm": {
     "name": "#%%\n"
    }
   }
  },
  {
   "cell_type": "code",
   "execution_count": 16,
   "outputs": [
    {
     "data": {
      "text/plain": "     index  word\n0       be  5387\n1        i  1492\n2   please   691\n3  contact   669\n4   assist   647",
      "text/html": "<div>\n<style scoped>\n    .dataframe tbody tr th:only-of-type {\n        vertical-align: middle;\n    }\n\n    .dataframe tbody tr th {\n        vertical-align: top;\n    }\n\n    .dataframe thead th {\n        text-align: right;\n    }\n</style>\n<table border=\"1\" class=\"dataframe\">\n  <thead>\n    <tr style=\"text-align: right;\">\n      <th></th>\n      <th>index</th>\n      <th>word</th>\n    </tr>\n  </thead>\n  <tbody>\n    <tr>\n      <th>0</th>\n      <td>be</td>\n      <td>5387</td>\n    </tr>\n    <tr>\n      <th>1</th>\n      <td>i</td>\n      <td>1492</td>\n    </tr>\n    <tr>\n      <th>2</th>\n      <td>please</td>\n      <td>691</td>\n    </tr>\n    <tr>\n      <th>3</th>\n      <td>contact</td>\n      <td>669</td>\n    </tr>\n    <tr>\n      <th>4</th>\n      <td>assist</td>\n      <td>647</td>\n    </tr>\n  </tbody>\n</table>\n</div>"
     },
     "execution_count": 16,
     "metadata": {},
     "output_type": "execute_result"
    }
   ],
   "source": [
    "#Verb dataframe\n",
    "dfverb = df[df['tag']=='VB']\n",
    "dfverb = dfverb.word.value_counts().reset_index()\n",
    "dfverb = dfverb[dfverb['word']>frequency]\n",
    "dfverb.head()"
   ],
   "metadata": {
    "collapsed": false,
    "pycharm": {
     "name": "#%%\n"
    }
   }
  },
  {
   "cell_type": "code",
   "execution_count": 17,
   "outputs": [
    {
     "data": {
      "text/plain": "     index  word\n0        i  7576\n1    money  3967\n2     bank  3455\n3       br  3182\n4  account  3136",
      "text/html": "<div>\n<style scoped>\n    .dataframe tbody tr th:only-of-type {\n        vertical-align: middle;\n    }\n\n    .dataframe tbody tr th {\n        vertical-align: top;\n    }\n\n    .dataframe thead th {\n        text-align: right;\n    }\n</style>\n<table border=\"1\" class=\"dataframe\">\n  <thead>\n    <tr style=\"text-align: right;\">\n      <th></th>\n      <th>index</th>\n      <th>word</th>\n    </tr>\n  </thead>\n  <tbody>\n    <tr>\n      <th>0</th>\n      <td>i</td>\n      <td>7576</td>\n    </tr>\n    <tr>\n      <th>1</th>\n      <td>money</td>\n      <td>3967</td>\n    </tr>\n    <tr>\n      <th>2</th>\n      <td>bank</td>\n      <td>3455</td>\n    </tr>\n    <tr>\n      <th>3</th>\n      <td>br</td>\n      <td>3182</td>\n    </tr>\n    <tr>\n      <th>4</th>\n      <td>account</td>\n      <td>3136</td>\n    </tr>\n  </tbody>\n</table>\n</div>"
     },
     "execution_count": 17,
     "metadata": {},
     "output_type": "execute_result"
    }
   ],
   "source": [
    "#Noun dataframe\n",
    "dfnoun = df[df['tag']=='NN']\n",
    "dfnoun = dfnoun.word.value_counts().reset_index()\n",
    "dfnoun = dfnoun[dfnoun['word']>frequency]\n",
    "dfnoun.head()"
   ],
   "metadata": {
    "collapsed": false,
    "pycharm": {
     "name": "#%%\n"
    }
   }
  },
  {
   "cell_type": "code",
   "execution_count": 18,
   "outputs": [
    {
     "data": {
      "text/plain": "     index  word\n0        i  2170\n1  foreign  1582\n2     next  1412\n3   united   826\n4     late   803",
      "text/html": "<div>\n<style scoped>\n    .dataframe tbody tr th:only-of-type {\n        vertical-align: middle;\n    }\n\n    .dataframe tbody tr th {\n        vertical-align: top;\n    }\n\n    .dataframe thead th {\n        text-align: right;\n    }\n</style>\n<table border=\"1\" class=\"dataframe\">\n  <thead>\n    <tr style=\"text-align: right;\">\n      <th></th>\n      <th>index</th>\n      <th>word</th>\n    </tr>\n  </thead>\n  <tbody>\n    <tr>\n      <th>0</th>\n      <td>i</td>\n      <td>2170</td>\n    </tr>\n    <tr>\n      <th>1</th>\n      <td>foreign</td>\n      <td>1582</td>\n    </tr>\n    <tr>\n      <th>2</th>\n      <td>next</td>\n      <td>1412</td>\n    </tr>\n    <tr>\n      <th>3</th>\n      <td>united</td>\n      <td>826</td>\n    </tr>\n    <tr>\n      <th>4</th>\n      <td>late</td>\n      <td>803</td>\n    </tr>\n  </tbody>\n</table>\n</div>"
     },
     "execution_count": 18,
     "metadata": {},
     "output_type": "execute_result"
    }
   ],
   "source": [
    "#Adjective dataframe\n",
    "dfadj = df[df['tag']=='JJ']\n",
    "dfadj = dfadj.word.value_counts().reset_index()\n",
    "dfadj = dfadj[dfadj['word']>frequency]\n",
    "dfadj.head()"
   ],
   "metadata": {
    "collapsed": false,
    "pycharm": {
     "name": "#%%\n"
    }
   }
  },
  {
   "cell_type": "code",
   "execution_count": 19,
   "outputs": [
    {
     "data": {
      "text/plain": "     index  word\n0  dollars  1169\n1    funds  1047\n2        i  1023\n3   states   590\n4    years   558",
      "text/html": "<div>\n<style scoped>\n    .dataframe tbody tr th:only-of-type {\n        vertical-align: middle;\n    }\n\n    .dataframe tbody tr th {\n        vertical-align: top;\n    }\n\n    .dataframe thead th {\n        text-align: right;\n    }\n</style>\n<table border=\"1\" class=\"dataframe\">\n  <thead>\n    <tr style=\"text-align: right;\">\n      <th></th>\n      <th>index</th>\n      <th>word</th>\n    </tr>\n  </thead>\n  <tbody>\n    <tr>\n      <th>0</th>\n      <td>dollars</td>\n      <td>1169</td>\n    </tr>\n    <tr>\n      <th>1</th>\n      <td>funds</td>\n      <td>1047</td>\n    </tr>\n    <tr>\n      <th>2</th>\n      <td>i</td>\n      <td>1023</td>\n    </tr>\n    <tr>\n      <th>3</th>\n      <td>states</td>\n      <td>590</td>\n    </tr>\n    <tr>\n      <th>4</th>\n      <td>years</td>\n      <td>558</td>\n    </tr>\n  </tbody>\n</table>\n</div>"
     },
     "execution_count": 19,
     "metadata": {},
     "output_type": "execute_result"
    }
   ],
   "source": [
    "#Noun plural dataframe\n",
    "dfnounpl = df[df['tag']=='NNS']\n",
    "dfnounpl = dfnounpl.word.value_counts().reset_index()\n",
    "dfnounpl = dfnounpl[dfnounpl['word']>frequency]\n",
    "dfnounpl.head()"
   ],
   "metadata": {
    "collapsed": false,
    "pycharm": {
     "name": "#%%\n"
    }
   }
  },
  {
   "cell_type": "code",
   "execution_count": 20,
   "outputs": [],
   "source": [
    "#Keep JJ (adjectives), NN (singular nouns), NNS (plural nouns), VB (verb)\n",
    "toKeep = ['JJ','NN','NNS','VB']\n",
    "\n",
    "#Get only work if tag is associated with above list\n",
    "forWordCloud = [tag[0] for tag in tags if tag[1] in toKeep]"
   ],
   "metadata": {
    "collapsed": false,
    "pycharm": {
     "name": "#%%\n"
    }
   }
  },
  {
   "cell_type": "code",
   "execution_count": 25,
   "outputs": [],
   "source": [
    "#Remove math equations/nonsense/single letters/common using previously defined dataframes\n",
    "toRemove = ['tel','i','br','%','nbsp','content-transfer-encoding','content-type','=20','font-size','s','r','href=','=','<','>','div','/div','sum','mr.','http','d','e','text/plain','text/html','transaction=2e','l','href','font','text','mr=2e','t','country=2e','you=2e','other','charset=','dear','have','get','do','be','come','know','make','want','take','let','like','go','use','release','stand','keep','hear','p','style=','apply','put','ask','fail','call','operate','introduce','see','reach','bring','visit','look','serve','allow','other','new','south','quoted-printable','charset=iso-8859-1']\n",
    "\n",
    "\n",
    "#https://www.youtube.com/watch?v=6ORnRAz3gnA\n",
    "for removal in toRemove:\n",
    "    removal = ' '+removal+' '\n",
    "    formatEmails = formatEmails.replace(removal,'')\n",
    "\n"
   ],
   "metadata": {
    "collapsed": false,
    "pycharm": {
     "name": "#%%\n"
    }
   }
  }
 ],
 "metadata": {
  "kernelspec": {
   "display_name": "Python 3",
   "language": "python",
   "name": "python3"
  },
  "language_info": {
   "codemirror_mode": {
    "name": "ipython",
    "version": 2
   },
   "file_extension": ".py",
   "mimetype": "text/x-python",
   "name": "python",
   "nbconvert_exporter": "python",
   "pygments_lexer": "ipython2",
   "version": "2.7.6"
  }
 },
 "nbformat": 4,
 "nbformat_minor": 0
}
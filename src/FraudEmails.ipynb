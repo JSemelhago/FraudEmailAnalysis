{
 "cells": [
  {
   "cell_type": "code",
   "execution_count": 70,
   "metadata": {
    "collapsed": true
   },
   "outputs": [
    {
     "name": "stderr",
     "output_type": "stream",
     "text": [
      "[nltk_data] Downloading package punkt to\n",
      "[nltk_data]     C:\\Users\\jseme\\AppData\\Roaming\\nltk_data...\n",
      "[nltk_data]   Package punkt is already up-to-date!\n",
      "[nltk_data] Downloading package averaged_perceptron_tagger to\n",
      "[nltk_data]     C:\\Users\\jseme\\AppData\\Roaming\\nltk_data...\n",
      "[nltk_data]   Package averaged_perceptron_tagger is already up-to-\n",
      "[nltk_data]       date!\n"
     ]
    }
   ],
   "source": [
    "import matplotlib.pyplot as plt\n",
    "import wordcloud\n",
    "import logging\n",
    "import collections\n",
    "import re\n",
    "import nltk\n",
    "import pandas as pd\n",
    "from PIL import Image\n",
    "\n",
    "#Tokenizer\n",
    "nltk.download('punkt')\n",
    "nltk.download('averaged_perceptron_tagger')\n",
    "\n",
    "logger = logging.getLogger('FraudEmails')\n",
    "\n",
    "#Minimum occurrence of a word to appear in the WordCloud\n",
    "frequency = 100\n",
    "#Number of words in WordCloud\n",
    "numb_of_words = 400"
   ]
  },
  {
   "cell_type": "code",
   "execution_count": 71,
   "outputs": [],
   "source": [
    "#Open and convert file to String\n",
    "try:\n",
    "    with open('../data/fraudulent_emails.txt','r') as file:\n",
    "        text = file.read()\n",
    "except Exception as e:\n",
    "    logger.error('Process failed with error: '+repr(e))\n",
    "finally:\n",
    "    file.close()\n",
    "\n"
   ],
   "metadata": {
    "collapsed": false,
    "pycharm": {
     "name": "#%%\n"
    }
   }
  },
  {
   "cell_type": "code",
   "execution_count": 72,
   "outputs": [],
   "source": [
    "#Delete everything between From r [.*?] Status: ?O\n",
    "formatEmails = re.sub('From.*?Status: ?O','',text,flags=re.DOTALL)"
   ],
   "metadata": {
    "collapsed": false,
    "pycharm": {
     "name": "#%%\n"
    }
   }
  },
  {
   "cell_type": "code",
   "execution_count": 73,
   "outputs": [],
   "source": [
    "#Convert to lower case\n",
    "formatEmails = formatEmails.lower()\n"
   ],
   "metadata": {
    "collapsed": false,
    "pycharm": {
     "name": "#%%\n"
    }
   }
  },
  {
   "cell_type": "code",
   "execution_count": 74,
   "outputs": [],
   "source": [
    "#Tokenize into string and remove stop words (the, a, on...)\n",
    "tokenizer = nltk.tokenize.RegexpTokenizer(r'\\w+')\n",
    "tokens = tokenizer.tokenize(formatEmails)\n",
    "formatEmailsList = list(filter(lambda word: word not in nltk.corpus.stopwords.words('english'), tokens))"
   ],
   "metadata": {
    "collapsed": false,
    "pycharm": {
     "name": "#%%\n"
    }
   }
  },
  {
   "cell_type": "code",
   "execution_count": 75,
   "outputs": [],
   "source": [
    "\n",
    "#Remove anything less than two characters\n",
    "formatEmailsList = list(filter(lambda word: len(word)>2, formatEmailsList))"
   ],
   "metadata": {
    "collapsed": false,
    "pycharm": {
     "name": "#%%\n"
    }
   }
  },
  {
   "cell_type": "code",
   "execution_count": 76,
   "outputs": [],
   "source": [
    "#Remove html tags\n",
    "\n",
    "#Tags modified from https://www.w3schools.com/TAGS/default.ASP\n",
    "htmldf = pd.read_csv('../data/html_tags.txt', sep='\\t').dropna()\n",
    "htmldf['Tag'] = htmldf['Tag'].str.strip()\n",
    "htmldf.head()\n",
    "\n",
    "finalEmailFormat = [word for word in formatEmailsList if '<'+word.strip()+'>' not in htmldf['Tag'].to_list()]"
   ],
   "metadata": {
    "collapsed": false,
    "pycharm": {
     "name": "#%%\n"
    }
   }
  },
  {
   "cell_type": "code",
   "execution_count": 77,
   "outputs": [],
   "source": [
    "#Correspond every entry to tag from https://www.ling.upenn.edu/courses/Fall_2003/ling001/penn_treebank_pos.html\n",
    "tags = nltk.pos_tag(finalEmailFormat)"
   ],
   "metadata": {
    "collapsed": false,
    "pycharm": {
     "name": "#%%\n"
    }
   }
  },
  {
   "cell_type": "code",
   "execution_count": 78,
   "outputs": [
    {
     "data": {
      "text/plain": "           word  tag\n0         james  NNS\n1         ngola  VBP\n2  confidential   JJ\n3           tel   NN\n4           233   CD",
      "text/html": "<div>\n<style scoped>\n    .dataframe tbody tr th:only-of-type {\n        vertical-align: middle;\n    }\n\n    .dataframe tbody tr th {\n        vertical-align: top;\n    }\n\n    .dataframe thead th {\n        text-align: right;\n    }\n</style>\n<table border=\"1\" class=\"dataframe\">\n  <thead>\n    <tr style=\"text-align: right;\">\n      <th></th>\n      <th>word</th>\n      <th>tag</th>\n    </tr>\n  </thead>\n  <tbody>\n    <tr>\n      <th>0</th>\n      <td>james</td>\n      <td>NNS</td>\n    </tr>\n    <tr>\n      <th>1</th>\n      <td>ngola</td>\n      <td>VBP</td>\n    </tr>\n    <tr>\n      <th>2</th>\n      <td>confidential</td>\n      <td>JJ</td>\n    </tr>\n    <tr>\n      <th>3</th>\n      <td>tel</td>\n      <td>NN</td>\n    </tr>\n    <tr>\n      <th>4</th>\n      <td>233</td>\n      <td>CD</td>\n    </tr>\n  </tbody>\n</table>\n</div>"
     },
     "execution_count": 78,
     "metadata": {},
     "output_type": "execute_result"
    }
   ],
   "source": [
    "df = pd.DataFrame(tags, columns=['word','tag'])\n",
    "df.head()"
   ],
   "metadata": {
    "collapsed": false,
    "pycharm": {
     "name": "#%%\n"
    }
   }
  },
  {
   "cell_type": "code",
   "execution_count": 79,
   "outputs": [
    {
     "data": {
      "text/plain": "      index  word\n0       get   316\n1      take   269\n2  transfer   245\n3     reply   244\n4    please   237",
      "text/html": "<div>\n<style scoped>\n    .dataframe tbody tr th:only-of-type {\n        vertical-align: middle;\n    }\n\n    .dataframe tbody tr th {\n        vertical-align: top;\n    }\n\n    .dataframe thead th {\n        text-align: right;\n    }\n</style>\n<table border=\"1\" class=\"dataframe\">\n  <thead>\n    <tr style=\"text-align: right;\">\n      <th></th>\n      <th>index</th>\n      <th>word</th>\n    </tr>\n  </thead>\n  <tbody>\n    <tr>\n      <th>0</th>\n      <td>get</td>\n      <td>316</td>\n    </tr>\n    <tr>\n      <th>1</th>\n      <td>take</td>\n      <td>269</td>\n    </tr>\n    <tr>\n      <th>2</th>\n      <td>transfer</td>\n      <td>245</td>\n    </tr>\n    <tr>\n      <th>3</th>\n      <td>reply</td>\n      <td>244</td>\n    </tr>\n    <tr>\n      <th>4</th>\n      <td>please</td>\n      <td>237</td>\n    </tr>\n  </tbody>\n</table>\n</div>"
     },
     "execution_count": 79,
     "metadata": {},
     "output_type": "execute_result"
    }
   ],
   "source": [
    "#Verb dataframe\n",
    "dfverb = df[df['tag']=='VB']\n",
    "dfverb = dfverb.word.value_counts().reset_index()\n",
    "dfverb = dfverb[dfverb['word']>frequency]\n",
    "dfverb.head()"
   ],
   "metadata": {
    "collapsed": false,
    "pycharm": {
     "name": "#%%\n"
    }
   }
  },
  {
   "cell_type": "code",
   "execution_count": 80,
   "outputs": [
    {
     "data": {
      "text/plain": "         index  word\n0        money  4142\n1         bank  3595\n2      account  2771\n3  transaction  2213\n4     business  1961",
      "text/html": "<div>\n<style scoped>\n    .dataframe tbody tr th:only-of-type {\n        vertical-align: middle;\n    }\n\n    .dataframe tbody tr th {\n        vertical-align: top;\n    }\n\n    .dataframe thead th {\n        text-align: right;\n    }\n</style>\n<table border=\"1\" class=\"dataframe\">\n  <thead>\n    <tr style=\"text-align: right;\">\n      <th></th>\n      <th>index</th>\n      <th>word</th>\n    </tr>\n  </thead>\n  <tbody>\n    <tr>\n      <th>0</th>\n      <td>money</td>\n      <td>4142</td>\n    </tr>\n    <tr>\n      <th>1</th>\n      <td>bank</td>\n      <td>3595</td>\n    </tr>\n    <tr>\n      <th>2</th>\n      <td>account</td>\n      <td>2771</td>\n    </tr>\n    <tr>\n      <th>3</th>\n      <td>transaction</td>\n      <td>2213</td>\n    </tr>\n    <tr>\n      <th>4</th>\n      <td>business</td>\n      <td>1961</td>\n    </tr>\n  </tbody>\n</table>\n</div>"
     },
     "execution_count": 80,
     "metadata": {},
     "output_type": "execute_result"
    }
   ],
   "source": [
    "#Noun dataframe\n",
    "dfnoun = df[df['tag']=='NN']\n",
    "dfnoun = dfnoun.word.value_counts().reset_index()\n",
    "dfnoun = dfnoun[dfnoun['word']>frequency]\n",
    "dfnoun.head()"
   ],
   "metadata": {
    "collapsed": false,
    "pycharm": {
     "name": "#%%\n"
    }
   }
  },
  {
   "cell_type": "code",
   "execution_count": 81,
   "outputs": [
    {
     "data": {
      "text/plain": "     index  word\n0  foreign  1599\n1     next  1551\n2     nbsp  1246\n3  private   821\n4   united   771",
      "text/html": "<div>\n<style scoped>\n    .dataframe tbody tr th:only-of-type {\n        vertical-align: middle;\n    }\n\n    .dataframe tbody tr th {\n        vertical-align: top;\n    }\n\n    .dataframe thead th {\n        text-align: right;\n    }\n</style>\n<table border=\"1\" class=\"dataframe\">\n  <thead>\n    <tr style=\"text-align: right;\">\n      <th></th>\n      <th>index</th>\n      <th>word</th>\n    </tr>\n  </thead>\n  <tbody>\n    <tr>\n      <th>0</th>\n      <td>foreign</td>\n      <td>1599</td>\n    </tr>\n    <tr>\n      <th>1</th>\n      <td>next</td>\n      <td>1551</td>\n    </tr>\n    <tr>\n      <th>2</th>\n      <td>nbsp</td>\n      <td>1246</td>\n    </tr>\n    <tr>\n      <th>3</th>\n      <td>private</td>\n      <td>821</td>\n    </tr>\n    <tr>\n      <th>4</th>\n      <td>united</td>\n      <td>771</td>\n    </tr>\n  </tbody>\n</table>\n</div>"
     },
     "execution_count": 81,
     "metadata": {},
     "output_type": "execute_result"
    }
   ],
   "source": [
    "#Adjective dataframe\n",
    "dfadj = df[df['tag']=='JJ']\n",
    "dfadj = dfadj.word.value_counts().reset_index()\n",
    "dfadj = dfadj[dfadj['word']>frequency]\n",
    "dfadj.head()"
   ],
   "metadata": {
    "collapsed": false,
    "pycharm": {
     "name": "#%%\n"
    }
   }
  },
  {
   "cell_type": "code",
   "execution_count": 82,
   "outputs": [
    {
     "data": {
      "text/plain": "     index  word\n0  dollars  1375\n1    funds  1133\n2  regards   629\n3    years   625\n4   states   598",
      "text/html": "<div>\n<style scoped>\n    .dataframe tbody tr th:only-of-type {\n        vertical-align: middle;\n    }\n\n    .dataframe tbody tr th {\n        vertical-align: top;\n    }\n\n    .dataframe thead th {\n        text-align: right;\n    }\n</style>\n<table border=\"1\" class=\"dataframe\">\n  <thead>\n    <tr style=\"text-align: right;\">\n      <th></th>\n      <th>index</th>\n      <th>word</th>\n    </tr>\n  </thead>\n  <tbody>\n    <tr>\n      <th>0</th>\n      <td>dollars</td>\n      <td>1375</td>\n    </tr>\n    <tr>\n      <th>1</th>\n      <td>funds</td>\n      <td>1133</td>\n    </tr>\n    <tr>\n      <th>2</th>\n      <td>regards</td>\n      <td>629</td>\n    </tr>\n    <tr>\n      <th>3</th>\n      <td>years</td>\n      <td>625</td>\n    </tr>\n    <tr>\n      <th>4</th>\n      <td>states</td>\n      <td>598</td>\n    </tr>\n  </tbody>\n</table>\n</div>"
     },
     "execution_count": 82,
     "metadata": {},
     "output_type": "execute_result"
    }
   ],
   "source": [
    "#Noun plural dataframe\n",
    "dfnounpl = df[df['tag']=='NNS']\n",
    "dfnounpl = dfnounpl.word.value_counts().reset_index()\n",
    "dfnounpl = dfnounpl[dfnounpl['word']>frequency]\n",
    "dfnounpl.head()"
   ],
   "metadata": {
    "collapsed": false,
    "pycharm": {
     "name": "#%%\n"
    }
   }
  },
  {
   "cell_type": "code",
   "execution_count": 14,
   "outputs": [],
   "source": [
    "#Keep JJ (adjectives), NN (singular nouns), NNS (plural nouns), VB (verb)\n",
    "toKeep = ['VB','NN','JJ','NNS']\n",
    "\n",
    "#Get only tag if tag is associated with above list\n",
    "forWordCloud = [tag[0] for tag in tags if tag[1] in toKeep]\n"
   ],
   "metadata": {
    "collapsed": false,
    "pycharm": {
     "name": "#%%\n"
    }
   }
  },
  {
   "cell_type": "code",
   "execution_count": 15,
   "outputs": [],
   "source": [
    "#Create dictionary with count of each entry\n",
    "scamDict = collections.Counter(forWordCloud)\n"
   ],
   "metadata": {
    "collapsed": false,
    "pycharm": {
     "name": "#%%\n"
    }
   }
  },
  {
   "cell_type": "code",
   "execution_count": 16,
   "outputs": [],
   "source": [
    "#Remove math equations/nonsense/single letters using previously defined dataframes\n",
    "\n",
    "toRemove = ['nbsp','http','charset','iso','html','www']\n",
    "\n",
    "for removal in toRemove:\n",
    "    del scamDict[removal]"
   ],
   "metadata": {
    "collapsed": false,
    "pycharm": {
     "name": "#%%\n"
    }
   }
  },
  {
   "cell_type": "code",
   "execution_count": 17,
   "outputs": [],
   "source": [
    "#Remove less than 100 instances\n",
    "scamDict = {k: v for k, v in scamDict.items() if v > frequency}\n"
   ],
   "metadata": {
    "collapsed": false,
    "pycharm": {
     "name": "#%%\n"
    }
   }
  },
  {
   "cell_type": "code",
   "execution_count": 18,
   "outputs": [],
   "source": [
    "Open mask and create word cloud\n",
    "nigeriaMask = np.array(Image.open('../data/NigeriaOutline.jpg'))\n",
    "scamCloud = wordcloud.WordCloud(width=800,height=800,\n",
    "                                max_words=numb_of_words,mask=nigeriaMask,\n",
    "                                contour_width=1,contour_color='green').generate_from_frequencies(scamDict)\n"
   ],
   "metadata": {
    "collapsed": false,
    "pycharm": {
     "name": "#%%\n"
    }
   }
  },
  {
   "cell_type": "code",
   "execution_count": 19,
   "outputs": [],
   "source": [
    "#Create image\n",
    "plt.figure(figsize=(30,30))\n",
    "plt.imshow(scamCloud)\n",
    "plt.axis('off')\n",
    "plt.savefig('../output/ScamWordCloud.png',bbox_inches='tight',pad_inches=0,dpi=133)"
   ],
   "metadata": {
    "collapsed": false,
    "pycharm": {
     "name": "#%%\n"
    }
   }
  },
  {
   "cell_type": "code",
   "execution_count": 20,
   "outputs": [],
   "source": [
    "#Output unformatted frequency\n",
    "outputrawdf = pd.concat([dfadj, dfnoun, dfnounpl, dfverb]).sort_values(by=['word'],ascending=False).reset_index(drop=True)\n",
    "outputrawdf.to_csv('../output/WordFrequency_Unprocessed.csv',index=False,header=False)\n",
    "outputrawdf.head()"
   ],
   "metadata": {
    "collapsed": false,
    "pycharm": {
     "name": "#%%\n"
    }
   }
  },
  {
   "cell_type": "code",
   "execution_count": 21,
   "outputs": [],
   "source": [
    "#Output formatted frequency\n",
    "outputformatdf = pd.DataFrame.from_dict(scamDict, orient='index').sort_values(by=[0],ascending=False)\n",
    "outputformatdf.to_csv('../output/WordFrequency_Processed.csv',header=False)\n",
    "outputformatdf.head()"
   ],
   "metadata": {
    "collapsed": false,
    "pycharm": {
     "name": "#%%\n"
    }
   }
  }
 ],
 "metadata": {
  "kernelspec": {
   "display_name": "Python 3",
   "language": "python",
   "name": "python3"
  },
  "language_info": {
   "codemirror_mode": {
    "name": "ipython",
    "version": 2
   },
   "file_extension": ".py",
   "mimetype": "text/x-python",
   "name": "python",
   "nbconvert_exporter": "python",
   "pygments_lexer": "ipython2",
   "version": "2.7.6"
  }
 },
 "nbformat": 4,
 "nbformat_minor": 0
}